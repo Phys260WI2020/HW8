{
 "cells": [
  {
   "cell_type": "markdown",
   "metadata": {},
   "source": [
    "# Computer Homework #8: Integrating the Biot-Savart Law\n",
    "\n",
    "### Preflight will be walked through and recorded during the 3/19/2020 session.  You will get 10pts for filling out the exercises in the pre-flight, and you are welcome to use either the class time and/or the recorded session to guide you through.\n",
    "\n",
    "\n",
    "The <b>Biot-Savart Law</b> describes how currents produce magnetic fields: \n",
    "$$\n",
    "       \\mathbf{B}(\\vec{r}) = \\frac{\\mu_0}{4\\pi}\\int\\frac{I\\,d\\vec{\\ell}\\times ({\\vec{r}-\\vec{r}^{\\prime})}}{|r-r^\\prime|^3}\n",
    "$$\n",
    "In this expression, $\\vec{r}$ is a field point (we use a grid to sample field points), and the integral runs over all the currents, whose positions are labeled by the vector $\\vec{r}^\\prime$. The field point $\\vec{r}$ is fixed for a particular integration. In general, this integral is difficult to evaluate analytically. This is why most introductory courses on E&M typically restrict their attention to examples like infinite straight wires, or the axis of symmetry of a loop. Fortunately, computers have no such limitations, and neither do we.\n",
    "\n",
    "The Biot-Savart Law bears a strong mathematical resemblance to Coulomb's Law. Consequently, our numerical approach to integrating it is also similar. You may want to review [Computer Homework #2](https://github.com/Phys260WI2020/HW2/blob/master/HW_02_solutions.ipynb) to refresh your memory about electric field calculations. \n",
    "\n",
    "In this assignment, we'll illustrate the numerical integration of the Biot-Savart Law by applying it to the above two cases where we already know the answer. Then we'll explore some more complicated scenarios.\n",
    "\n",
    "- First, we will look at the magnetic field due to a line wire with current flowing\n",
    "- Second, we will look at the magnetic field due to a loop of current\n",
    "- For the \"more complicated\" scenarios, you will:\n",
    "    - Extend the line wire example to two wires\n",
    "    - Extend the loop example to two loops\n",
    "    - Solve for Helmholz coils both analytically and numerically\n",
    "    \n",
    "We will exploit the fact that these cases have common code to avoid re-writing code.  This includes the code to calculate the magnetic field at a point due to any number of current elements, $Id\\vec{l}$. \n",
    "\n",
    "### Two new computational concepts:\n",
    "- Python classes (a very simple version of what you can do with these).\n",
    "- NO MORE LOOPS!   We will do as much as possible along numpy array axes, which speeds up calculations."
   ]
  },
  {
   "cell_type": "code",
   "execution_count": null,
   "metadata": {},
   "outputs": [],
   "source": [
    "# Import the usual libraries\n",
    "import numpy as np\n",
    "import matplotlib.pyplot as plt\n",
    "from mpl_toolkits.mplot3d import Axes3D"
   ]
  },
  {
   "cell_type": "markdown",
   "metadata": {},
   "source": [
    "## Example 1: B-field of a long, straight wire\n",
    "\n",
    "This example will illustrate the approach that we will follow for the rest of this assignment: \n",
    "- First, we define a spatial grid of field points at which we will evaluate $B$. \n",
    "- Next, we define the current that will be the source of this field. \n",
    "- Finally, we will perform the integration and make some plots."
   ]
  },
  {
   "cell_type": "markdown",
   "metadata": {},
   "source": [
    "Field points set-up for **Example 1**: \n",
    "- Compute the field in the $y$-$z$ plane, with $-4<y<4$ and $-4<z<4$, on the plane at $x=0$.\n",
    "- Let the wire be \"infinite\" along the $x$-axis, but define the points of the current between $-5<x<5$."
   ]
  },
  {
   "cell_type": "markdown",
   "metadata": {},
   "source": [
    "#### Define a spatial grid of points where we calculate the B-field"
   ]
  },
  {
   "cell_type": "code",
   "execution_count": null,
   "metadata": {},
   "outputs": [],
   "source": [
    "# Define the spatial grid here using np.arange and np.meshgrid. \n",
    "#   We want points sampling: x=0, -4<y,z<4. \n",
    "\n",
    "num_sample_points = 100 #  This determines the resolution of the spatial grid\n",
    "x_gridpts, y_gridpts, z_gridpts = np.meshgrid(np.array([0]),\n",
    "                                              np.linspace(-4, 4, num_sample_points),\n",
    "                                              np.linspace(-4, 4, num_sample_points),\n",
    "                                              indexing='ij'  # Recall, this was to keep x, y, z ordering.\n",
    "                                             )"
   ]
  },
  {
   "cell_type": "markdown",
   "metadata": {},
   "source": [
    "**np.meshgrid review:**  How many total points on the grid do you have?  Hint: np.size helps.  What do you expect the contents of x_gridpts to look line?  Is this the case?"
   ]
  },
  {
   "cell_type": "code",
   "execution_count": null,
   "metadata": {},
   "outputs": [],
   "source": [
    "# Review np.meshgrid here by inspecting the shape and size of np.meshgrid"
   ]
  },
  {
   "cell_type": "markdown",
   "metadata": {},
   "source": [
    "**np.reshape and np.ravel explore and test**:  Create an array with elements 0, 1, 2, 3.  Use `np.reshape` to make this into a 2x2 array, print the output.  Use `np.ravel` to \"flatten\" the array and print the output."
   ]
  },
  {
   "cell_type": "code",
   "execution_count": null,
   "metadata": {},
   "outputs": [],
   "source": [
    "# Explore and test np.reshape and np.ravel here"
   ]
  },
  {
   "cell_type": "markdown",
   "metadata": {},
   "source": [
    "#### Our first python class: Define the current that is the source of the field\n",
    "Next, we discretize a line of current along the x-axis from $-5<x<5$, and since this is on the x-axis, the y and z coordinates of the wire are zero.  Let $\\mu_0=1$ to avoid extreme orders of magnitude that go beyond floating point precision.  Let us also set $I=1$ Amp.  Below, we create a **class** in python for a `LineWireCurrent`."
   ]
  },
  {
   "cell_type": "code",
   "execution_count": null,
   "metadata": {},
   "outputs": [],
   "source": [
    "class LineWireCurrent() :\n",
    "    '''Define a line of current. This goes from -5 to 5 along the x-axis'''\n",
    "    def __init__(self, dl=0.1, I=1.0, xlims=(-5,5)) :\n",
    "        '''The __init__ function is run when you initialize a LineWireCurrent object.'''\n",
    "        # The following simply creates \"attributes\" of the line of current\n",
    "        self.dl = np.array([0.1, 0, 0])  # All of the dl's are little line segments in the x-direction\n",
    "        self.xwire = np.arange(xlims[0],xlims[1],dl)\n",
    "        self.ywire = np.zeros(self.xwire.shape)\n",
    "        self.zwire = np.zeros(self.xwire.shape)\n",
    "        \n",
    "        # Pick simple values for the constant mu_0 and the current.\n",
    "        self.mu0 = 1\n",
    "        self.I = I  "
   ]
  },
  {
   "cell_type": "code",
   "execution_count": null,
   "metadata": {},
   "outputs": [],
   "source": [
    "lwc = LineWireCurrent(I=2.0)\n",
    "print('Current in this wire is: ',lwc.I)"
   ]
  },
  {
   "cell_type": "markdown",
   "metadata": {},
   "source": [
    "#### We'll next want a function to calculate the magnetic field at a point (one of the grid points) for a given current, like LineWireCurrent\n",
    "Let's first remind ourselves of how np.cross works again...."
   ]
  },
  {
   "cell_type": "markdown",
   "metadata": {},
   "source": [
    "Let's examine what np.cross does between a 1x3 vector and a 2x3 vector:"
   ]
  },
  {
   "cell_type": "code",
   "execution_count": null,
   "metadata": {},
   "outputs": [],
   "source": [
    "print('Our 1x3 vector:')\n",
    "array_1x3 = np.array([1,0,0])\n",
    "print(array_1x3)\n",
    "print('Our 2x3 vector:')\n",
    "array_2x3 = np.array([[1,0,0],[0,1,0]])\n",
    "print(array_2x3)\n",
    "print('with shape:')\n",
    "print(array_2x3.shape)\n",
    "print('The cross product is:')\n",
    "np.cross(array_1x3, array_2x3)"
   ]
  },
  {
   "cell_type": "markdown",
   "metadata": {},
   "source": [
    "Let's create a 3x2 array instead.  What do we have to do to get the cross product working for this?"
   ]
  },
  {
   "cell_type": "code",
   "execution_count": null,
   "metadata": {},
   "outputs": [],
   "source": [
    "#  Test out 3x2 here\n",
    "array_3x2 = array_2x3.T\n",
    "print(array_3x2)\n",
    "print('has shape:')\n",
    "print(array_3x2.shape)\n",
    "\n",
    "# FILL OUT SOLUTION TO GETTING A WORKING CROSS PRODUCT HERE - look up the documentation"
   ]
  },
  {
   "cell_type": "markdown",
   "metadata": {},
   "source": [
    "Let's now test out another numpy function np.divide.  We know we can do element-wise addition, subtraction, division, and multiplications, e.g. `np.array([1,0,0]) / 1`.  But, what if we wanted to divide every row (or every column) by a different number?  The method, `np.divide` allows us to do just that.  Create a 3x5 array of ones, and use `np.divide` to output a 3x5 array of 3 1's, 3 1/2's, 3 1/3's, etc."
   ]
  },
  {
   "cell_type": "code",
   "execution_count": null,
   "metadata": {},
   "outputs": [],
   "source": [
    "# Test out np.divide here\n",
    "original = np.ones((3,5))\n",
    "np.divide(original, np.arange(5)+1)"
   ]
  },
  {
   "cell_type": "code",
   "execution_count": null,
   "metadata": {},
   "outputs": [],
   "source": [
    "def calc_bfield_at_point(grid_point, current_object, print_array_shapes=False) :\n",
    "    '''This function expects a grid point x, y, z and a current object with attributes matching LineWireCurrent'''\n",
    "        \n",
    "    delta_r = np.array([grid_point[0] - current_object.xwire,\n",
    "                        grid_point[1] - current_object.ywire,\n",
    "                        grid_point[2] - current_object.zwire\n",
    "                       ])  # This is 3 x number_dl_segments\n",
    "    \n",
    "    # Rename for shorthand\n",
    "    mu0 = current_object.mu0\n",
    "    Idl = current_object.I * current_object.dl\n",
    "    \n",
    "    # Key pieces of the Biot-Savart Law\n",
    "    Idlxdelta_r = np.cross(Idl, delta_r, axisa=0, axisb=0, axisc=0)  # This has shape 3 x number_dl_segments\n",
    "    cubed_normalization = np.linalg.norm(delta_r, axis=0)**3 # This has shape (number_dl_segments)\n",
    "    biot_savart_integrand = np.divide(Idlxdelta_r, cubed_normalization)\n",
    "    if print_array_shapes :\n",
    "        print('shape of cross product', Idlxdelta_r.shape)\n",
    "        print('shape of cubed_normalization', cubed_normalization.shape)\n",
    "        print('shape of divide',np.divide(Idlxdelta_r, cubed_normalization).shape)\n",
    "        print('Shape of the delta_r array is: ', delta_r.shape) \n",
    "    \n",
    "    #  Note, \"integrating\", is again, summing all of the contributions from each dl\n",
    "    return mu0/(4*np.pi) * np.sum(biot_savart_integrand, axis=1)"
   ]
  },
  {
   "cell_type": "markdown",
   "metadata": {},
   "source": [
    "Here, we **test** the function:"
   ]
  },
  {
   "cell_type": "code",
   "execution_count": null,
   "metadata": {},
   "outputs": [],
   "source": [
    "# Let's test the function with an example point and the LineWireCurrent.  \n",
    "#    For example, we KNOW the B-field decreases with distance, and we know the direction it should point \n",
    "#      if we are at a point on the y or on the z axis.\n",
    "calc_bfield_at_point(np.array([0, 0.4, 0]), LineWireCurrent(I=1.0), print_array_shapes=True)"
   ]
  },
  {
   "cell_type": "markdown",
   "metadata": {},
   "source": [
    "####  Calculate the magnetic field at each gridpoint due to the entire current (i.e. integrate the contribution from all dl's)\n",
    "Below, we construct a function that calculates the magnetic field at all grid points in space due to a wire configuration."
   ]
  },
  {
   "cell_type": "markdown",
   "metadata": {},
   "source": [
    "To do this efficiently, you'll notice we would want to execute `calc_bfield_at_point` for every index in `x_gridpts`, `y_gridpts`, and `z_gridpts` (each index allowing us to access the x, y, and z coordinate of a point).  Luckily, numpy has a method to do this called `np.apply_along_axis`.  Let us test the method with a simple function."
   ]
  },
  {
   "cell_type": "code",
   "execution_count": null,
   "metadata": {},
   "outputs": [],
   "source": [
    "def find_euclidean_distance(arr, random_argument=\"blah\") :\n",
    "    print(random_argument)\n",
    "    return np.sqrt(arr[0]**2+arr[1]**2+arr[2]**2)\n",
    "\n",
    "test_array = np.array([[1,2,3], [0,0,0]])\n",
    "print(test_array.shape)\n",
    "np.apply_along_axis(find_euclidean_distance, 1, test_array, random_argument='blue')\n",
    "\n",
    "#  Exercise:  What do you need to do if you are given the transpose of test_array, or test_array.T ? "
   ]
  },
  {
   "cell_type": "markdown",
   "metadata": {},
   "source": [
    "**Now we are ready** to calculate the B-field at all points in our meshgrid.  We have to: \n",
    "- First stack the x_gridpts, y_gridpts, and z_gridpts such that we can use `calc_bfield_at_point` for each point.  \n",
    "- Second, collect the fields we care about."
   ]
  },
  {
   "cell_type": "code",
   "execution_count": null,
   "metadata": {},
   "outputs": [],
   "source": [
    "# Stack the coordinates\n",
    "stacked_gridpts = np.array([x_gridpts, y_gridpts, z_gridpts])\n",
    "\n",
    "# Examine what we've done\n",
    "print('Stacked grid shape', stacked_gridpts.shape)\n",
    "print('Original y_gridpts shape:',y_gridpts.shape)\n",
    "\n",
    "# Now, calculate the b_field in ONE LINE!\n",
    "b_field = np.apply_along_axis(calc_bfield_at_point, 0, stacked_gridpts, LineWireCurrent(I=1.0))\n",
    "\n",
    "# The magnitude of the b_field at each point is also useful\n",
    "magnitude_b_field = np.linalg.norm(b_field, axis=0)\n",
    "\n",
    "# Let's keep track of what we're doing in terms of the shape...\n",
    "print('shape of the b_field array we calculated:', b_field.shape)\n",
    "print('shape of the b magnitude array: ', magnitude_b_field.shape)\n",
    "print('b-field magnitude shape',magnitude_b_field.shape)\n",
    "\n",
    "# Get things back into the shape of the desired meshgrid outputs:\n",
    "B_y = b_field[1][0]\n",
    "B_z = b_field[2][0]"
   ]
  },
  {
   "cell_type": "markdown",
   "metadata": {},
   "source": [
    "Now, we **plot** the field in the yz-plane.  You may remember the imshow method from matplotlib.  It expects an NxN array."
   ]
  },
  {
   "cell_type": "code",
   "execution_count": null,
   "metadata": {},
   "outputs": [],
   "source": [
    "fig, ax = plt.subplots(1, figsize=(10,8))\n",
    "\n",
    "nxn_portion_to_plot = magnitude_b_field[0]\n",
    "img = ax.imshow(np.log10(nxn_portion_to_plot), origin='lower', interpolation='bicubic', cmap=plt.cm.inferno, \n",
    "                extent=[-3,3,-3,3])  # coordinate order is left, right, bottom, top     \n",
    "cbar = fig.colorbar(img, label='Log10(B)')"
   ]
  },
  {
   "cell_type": "markdown",
   "metadata": {},
   "source": [
    "Alternatively, we can also use the streamplot method.  Note, the conventions on streamplot assume the outputs of np.meshgrid with `indexing='xy'`, so we have to switch the z and y order:"
   ]
  },
  {
   "cell_type": "code",
   "execution_count": null,
   "metadata": {},
   "outputs": [],
   "source": [
    "fig, ax1 = plt.subplots(1, figsize=(8,8))\n",
    "color = 2 * np.log(magnitude_b_field[0])    # colors the arrows based on field strength\n",
    "\n",
    "ax1.streamplot(z_gridpts[0], y_gridpts[0], B_z, B_y, color=color, linewidth=1, \n",
    "               cmap=plt.cm.inferno, density=1.5, arrowstyle='simple', arrowsize=1.5)\n",
    "\n",
    "ax1.plot(0,0,'x', markersize=10, color='r')   # indicate the location of the wire\n",
    "\n",
    "ax1.set_aspect('equal')\n",
    "ax1.set_xlim([-4,4])\n",
    "ax1.set_ylim([-4,4])\n",
    "ax1.set_xlabel('z', fontsize=16)\n",
    "ax1.set_ylabel('y', fontsize=16)"
   ]
  },
  {
   "cell_type": "markdown",
   "metadata": {},
   "source": [
    "We can also visualize the field strength in one dimension by plotting B as a function of the radial distance from the wire. We also compare the the analytical result from Ampere's Law.  \n",
    "**Exercise:**  Use `calc_bfield_at_point` to calculate the field as a function of distance along the y-axis, say from $0<y<4$.  Compare with what you know from Ampere's law.  You may try using `np.apply_along_axis` to reduce the number of code lines."
   ]
  },
  {
   "cell_type": "code",
   "execution_count": null,
   "metadata": {},
   "outputs": [],
   "source": [
    "ypoints = np.linspace(0.1,4,40)\n",
    "xpoints = np.zeros(ypoints.shape)\n",
    "zpoints = np.zeros(ypoints.shape)\n",
    "\n",
    "# Stack the points\n",
    "test_points = np.array([xpoints, \n",
    "                        ypoints, \n",
    "                        zpoints])\n",
    "\n",
    "# Calculate the field\n",
    "b_field_along_y_axis = np.apply_along_axis(calc_bfield_at_point, 0, test_points, LineWireCurrent(I=1.0))\n",
    "print(b_field_along_y_axis.shape)\n",
    "# Calculate the magnitude\n",
    "magnitude_b_along_y_axis = np.linalg.norm(b_field_along_y_axis, axis=0)\n",
    "\n",
    "# Plot\n",
    "B_ampere = 1/(2*np.pi*ypoints)\n",
    "plt.plot(ypoints, magnitude_b_along_y_axis, label='Computational')\n",
    "plt.plot(ypoints, B_ampere, label='Ampere')\n",
    "plt.legend(fontsize='xx-large')\n",
    "plt.xlabel('distance from wire', fontsize=16)\n",
    "plt.ylabel('B field strength', fontsize=16)\n",
    "plt.grid()"
   ]
  },
  {
   "cell_type": "code",
   "execution_count": null,
   "metadata": {},
   "outputs": [],
   "source": [
    "plt.plot(ypoints, magnitude_b_along_y_axis/B_ampere)\n",
    "\n",
    "plt.xlabel('distance from wire', fontsize=16)\n",
    "plt.ylabel('Deviation: Bcomp/Bamp', fontsize=16)\n",
    "plt.grid()\n"
   ]
  },
  {
   "cell_type": "markdown",
   "metadata": {},
   "source": [
    "**Quick exercise**:  What will mitigate the deviation at larger distances from the wire?  See if that works.  (Hint:  The xlims kwarg in the LineWireCurrent should be changed when you initiate a LineWireCurrent)."
   ]
  },
  {
   "cell_type": "markdown",
   "metadata": {},
   "source": [
    "## Example 2: B-field of a current loop\n",
    "\n",
    "\n",
    "The next step up in complexity is the field of a current loop. It's possible to obtain an analytic solution along the axis of symmetry, but for a computer it's no additional trouble to get the field everywhere else. \n",
    "\n",
    "Our loop will be centered at the origin, and will be located in the $x$-$z$ plane. It will have a radius $R=1$, and carry a current of 1 A.\n",
    "\n",
    "As before, we'll compute the field on a grid of points in the $y$-$z$ plane at $x=0$. So the loop is perpendicular to your screen... imagine half of the loop sticking out of the plane of your screen.\n",
    "\n",
    "This integration is a little more complex than the straight wire because the direction of the current is not constant. We handle this by breaking the loop up into a finite number of segments, each with its own location and direction.\n",
    "\n"
   ]
  },
  {
   "cell_type": "markdown",
   "metadata": {},
   "source": [
    "**First, we define a loop of current object**"
   ]
  },
  {
   "cell_type": "code",
   "execution_count": null,
   "metadata": {},
   "outputs": [],
   "source": [
    "class LoopWireCurrent() :\n",
    "    '''Define a loope of current. This is discretized by delta_phi.'''\n",
    "    def __init__(self, radius=1.0, dphi=np.pi/10, I=1.0) :\n",
    "        '''The __init__ function is run when you initialize a LoopWireCurrent object.'''\n",
    "        # The following simply creates \"attributes\" of the line of current\n",
    "        self.phi = np.arange(0,2*np.pi, dphi)  # All of the dl's are little line segments in the x-direction\n",
    "        self.dphi = dphi\n",
    "\n",
    "        self.xwire = radius*np.cos(self.phi)\n",
    "        self.ywire = np.zeros(self.xwire.shape)\n",
    "        self.zwire = radius*np.sin(self.phi)\n",
    "        \n",
    "        # The most \"complicated\" part of the loop is calculating the dl vectors\n",
    "        ds = 2*np.pi*radius / self.phi.size # Length of an arclet ds\n",
    "        self.dl = ds*np.array([np.sin(self.phi),\n",
    "                               np.zeros(self.phi.size),\n",
    "                               -np.cos(self.phi)]) \n",
    "        \n",
    "        # Pick simple values for the constant mu_0 and the current.\n",
    "        self.mu0 = 1\n",
    "        self.I = I  "
   ]
  },
  {
   "cell_type": "markdown",
   "metadata": {},
   "source": [
    "Let's first examine the new object we have created."
   ]
  },
  {
   "cell_type": "code",
   "execution_count": null,
   "metadata": {},
   "outputs": [],
   "source": [
    "loopwc = LoopWireCurrent()\n",
    "print(loopwc.dl.shape)"
   ]
  },
  {
   "cell_type": "markdown",
   "metadata": {},
   "source": [
    "**Now, let's calculate** the magnetic field for some test points, and even try varying some of the kwargs for LoopWireCurrent."
   ]
  },
  {
   "cell_type": "code",
   "execution_count": null,
   "metadata": {},
   "outputs": [],
   "source": [
    "calc_bfield_at_point(np.array([0,4,4]), LoopWireCurrent(I=2.), print_array_shapes=True)"
   ]
  },
  {
   "cell_type": "markdown",
   "metadata": {},
   "source": [
    "**Now, we calculate** the magnetic field on our grid of points"
   ]
  },
  {
   "cell_type": "code",
   "execution_count": null,
   "metadata": {},
   "outputs": [],
   "source": [
    "# Now, calculate the b_field in ONE LINE!\n",
    "b_field_loop = np.apply_along_axis(calc_bfield_at_point, 0, stacked_gridpts, LoopWireCurrent(I=1.0))\n",
    "\n",
    "# The magnitude of the b_field at each point is also useful\n",
    "magnitude_b_field_loop = np.linalg.norm(b_field, axis=0)\n",
    "\n",
    "# Get things back into the shape of the desired meshgrid outputs:\n",
    "B_y_loop = b_field_loop[1][0]\n",
    "B_z_loop = b_field_loop[2][0]"
   ]
  },
  {
   "cell_type": "markdown",
   "metadata": {},
   "source": [
    "**Now we plot** the magnetic field due to a loop wire.  "
   ]
  },
  {
   "cell_type": "code",
   "execution_count": null,
   "metadata": {},
   "outputs": [],
   "source": [
    "fig, ax1 = plt.subplots(1, figsize=(8,8))\n",
    "color = 2 * np.log(magnitude_b_field[0])    # colors the arrows based on field strength\n",
    "\n",
    "ax1.streamplot(z_gridpts[0], y_gridpts[0], B_z_loop, B_y_loop, color=color, linewidth=1, \n",
    "               cmap=plt.cm.inferno, density=1.5, arrowstyle='simple', arrowsize=1.5)\n",
    "\n",
    "ax1.plot(1,0,'x', markersize=10, color='r')   # indicate where the loop sticks in and out\n",
    "ax1.plot(-1,0,'o', markersize=10, color='b')   # indicate where the loop sticks in and out\n",
    "\n",
    "ax1.set_aspect('equal')\n",
    "ax1.set_xlim([-4,4])\n",
    "ax1.set_ylim([-4,4])\n",
    "ax1.set_xlabel('z', fontsize=16)\n",
    "ax1.set_ylabel('y', fontsize=16)"
   ]
  },
  {
   "cell_type": "markdown",
   "metadata": {},
   "source": [
    "**Observation question** - What is the axis of symmetry when you look at the plot above?"
   ]
  },
  {
   "cell_type": "code",
   "execution_count": null,
   "metadata": {},
   "outputs": [],
   "source": [
    "# This is the exact solution along the axis of symmetry\n",
    "def calc_b_loop_exact(y, I=1, R=1):\n",
    "    mu_0 = 1\n",
    "    return mu_0*I/2*R**2/(R**2 + y**2)**(3/2)"
   ]
  },
  {
   "cell_type": "code",
   "execution_count": null,
   "metadata": {},
   "outputs": [],
   "source": [
    "ypoints = np.linspace(-4,4,40)\n",
    "xpoints = np.zeros(ypoints.shape)\n",
    "zpoints = np.zeros(ypoints.shape)\n",
    "\n",
    "# Stack the points\n",
    "test_points = np.array([xpoints, \n",
    "                        ypoints, \n",
    "                        zpoints])\n",
    "\n",
    "# Calculate the field\n",
    "b_field_loop_along_y_axis = np.apply_along_axis(calc_bfield_at_point, 0, test_points, LoopWireCurrent(I=1.0))\n",
    "print(b_field_loop_along_y_axis.shape)\n",
    "# Calculate the magnitude\n",
    "magnitude_bloop_along_y_axis = np.linalg.norm(b_field_loop_along_y_axis, axis=0)\n",
    "\n",
    "# Plot\n",
    "b_loop_exact = calc_b_loop_exact(ypoints)\n",
    "plt.plot(ypoints, magnitude_bloop_along_z_axis, label='Computational')\n",
    "plt.plot(ypoints, b_loop_exact, label='Ampere')\n",
    "plt.legend(fontsize='xx-large', loc='lower right')\n",
    "plt.xlabel('y coord on axis', fontsize=16)\n",
    "plt.ylabel('B field strength', fontsize=16)\n",
    "plt.grid()"
   ]
  },
  {
   "cell_type": "markdown",
   "metadata": {},
   "source": [
    "Let's now do a ratio comparison of the two:"
   ]
  },
  {
   "cell_type": "code",
   "execution_count": null,
   "metadata": {},
   "outputs": [],
   "source": [
    "plt.plot(ypoints, 1-magnitude_bloop_along_y_axis/b_loop_exact)\n",
    "\n",
    "plt.xlabel('y coord on axis', fontsize=16)\n",
    "plt.ylabel('Fractional Deviation: 1-Bcomp/Bexact', fontsize=10)\n",
    "\n",
    "plt.grid()"
   ]
  },
  {
   "cell_type": "markdown",
   "metadata": {},
   "source": [
    "You can also try plotting the other components to verify that they are small."
   ]
  },
  {
   "cell_type": "markdown",
   "metadata": {},
   "source": [
    "**Useful for your assignment**:  Your assignment will largely consist of writing an *expanded* version of `LineWireCurrent` and `LoopWireCurrent`.  You will find the method `np.concatenate` useful in this case.  You will still want only *one* array for the `self.dl`, `self.xwire`, `self.ywire`, and `self.zwire` in your Wire objects, even if you have distinct wires. This is possible because, for simplicity, the current in all of the configurations below is still $I=1$Amp.  Test out concatentating two 2x3 arrays below.  Note that you can change the axis of concatenation.  I have put in some starter things to test,but you should examine the effects of `np.concatenate` on your own.  The alternative way to do the assignment is to compute the individual contributions to the magnetic field, then add later."
   ]
  },
  {
   "cell_type": "code",
   "execution_count": null,
   "metadata": {},
   "outputs": [],
   "source": [
    "# Test np.concatenate\n",
    "print(np.concatenate([array_2x3, array_2x3]).shape)\n",
    "print(np.concatenate([array_2x3, array_2x3],axis=1).shape)\n",
    "print(np.concatenate([array_2x3.T, array_2x3.T],axis=1).shape)"
   ]
  },
  {
   "cell_type": "markdown",
   "metadata": {},
   "source": [
    "***\n",
    "## Your assignment due Thursday 3/26 at 11:59pm EST"
   ]
  },
  {
   "cell_type": "markdown",
   "metadata": {},
   "source": [
    "## Part 1 (10 points): B-field of two parallel wires\n",
    "\n",
    "Modify the code in <b>Example 1</b> to calculate the B-field for two parallel wires. The wires should run parallel to the $x$-axis at $z=0$ and $y=\\pm 1$.\n",
    "\n",
    "a. Make a 2D plot of the field when the currents are in the same direction.\n",
    "\n",
    "b. Make a 2D plot of the field when the currents are in opposite directions.\n"
   ]
  },
  {
   "cell_type": "code",
   "execution_count": null,
   "metadata": {},
   "outputs": [],
   "source": [
    "#  Create a python class for parallel same direction lines\n",
    "class LineWireParallel() :\n",
    "    # Your code here\n",
    "    "
   ]
  },
  {
   "cell_type": "code",
   "execution_count": null,
   "metadata": {},
   "outputs": [],
   "source": [
    "#  Calculate the magnetic field on your grid and plot"
   ]
  },
  {
   "cell_type": "code",
   "execution_count": null,
   "metadata": {},
   "outputs": [],
   "source": [
    "#  Create a python class for anti-parallel current\n",
    "class LineWireAntiParallel() :\n",
    "    # Your code here"
   ]
  },
  {
   "cell_type": "code",
   "execution_count": null,
   "metadata": {},
   "outputs": [],
   "source": [
    "#  Calculate the magnetic field on your grid and plot"
   ]
  },
  {
   "cell_type": "markdown",
   "metadata": {},
   "source": [
    "## Part 2 (10 points): B-field of two parallel loops\n",
    "\n",
    "Modify the code in <b>Example 2</b> to calculate the $B$-field for two parallel loops carrying current in the same direction. The loops should be in the $x$-$z$ plane at $y=\\pm 1$.\n",
    "\n",
    "a. Make a 2D plot of the field.\n",
    "\n",
    "b. Plot the field strength along the axis of symmetry."
   ]
  },
  {
   "cell_type": "code",
   "execution_count": null,
   "metadata": {},
   "outputs": [],
   "source": [
    "# Create a python class for parallel loops\n",
    "class LoopWireParallel() :\n",
    "    # Your code here"
   ]
  },
  {
   "cell_type": "code",
   "execution_count": null,
   "metadata": {},
   "outputs": [],
   "source": [
    "#  Calculate the magnetic field on your grid and plot"
   ]
  },
  {
   "cell_type": "markdown",
   "metadata": {},
   "source": [
    "## Part 3 (5 points extra credit): Helmholtz Coils (analytic version)\n",
    "\n",
    "<b> Helmholtz coils</b> are a way of arranging two parallel loops to produce a relatively uniform magnetic field. In the lab, you use a set of Helmholtz coils that look like this:\n",
    "\n",
    "<img src=\"http://www-personal.umich.edu/~gerdes/img/Set-up_5H30.20_bmp.jpg\">\n",
    "\n",
    "Using the principle of superposition, write down an expression for $B(z)$ for two parallel circular loops with radius $R$, separated by a distance $a$. Find the value of $a$ that minimizes the non-uniformity of $B(z)$ near the midpoint between the two coils. This means that you are looking for the value of $a$ that makes \n",
    "$$\n",
    "        \\left.\\frac{d^2B}{dz^2}\\right|_{z=0} = 0.\n",
    "$$\n",
    "(Because $B(z)$ is a symmetric function of $z$, this means that the first nonzero derivative of $B$ is $d^4B/dz^4$.)\n",
    "\n",
    "Show your work in any of several ways:\n",
    "* In LaTeX in a markdown cell in this notebook\n",
    "* Learn about the <a href=\"https://docs.sympy.org/latest/index.html\">sympy</a> package and show your calculation here.\n",
    "* The answer is **a=R**, where you will find that the fields are most uniform when the coils are separated by a distance equal to their radius.  You do not need to do Part 3 to complete Part 4, but you will receive extra credit for practicing LaTeX, or sympy."
   ]
  },
  {
   "cell_type": "markdown",
   "metadata": {},
   "source": [
    "## Part 4 (10 points): Helmholtz Coils (numerical version)\n",
    "\n",
    "* Modify your code from Part 2 to place the coils at the spacing determined from Part 3.  Hint: You should have the spacing between the coils be a kwarg to your `LoopWireParallel` class.\n",
    "* Make a plot of $B(z)$ along the axis of symmetry. To better highlight the region of interest, make the limits of your plot be $-2<y<2$. This will illustrate the uniformity of the field along the axis. Approximately what is the ratio of $B(z)$ at the center of one coil to its value at the midpoint between the coils? \n",
    "* Make a plot of $B(z)$ as a function of radial distance from the center in the midplane between the two coils. This will illustrate the uniformity of the field in the transverse direction. It's extremely difficult to do this calculation analytically. Approximately what is the ratio of $B(z)$ at $r=R$ to its value at $r=0$?"
   ]
  },
  {
   "cell_type": "code",
   "execution_count": null,
   "metadata": {},
   "outputs": [],
   "source": [
    "# Your code and discussion goes here."
   ]
  }
 ],
 "metadata": {
  "kernelspec": {
   "display_name": "Python 3",
   "language": "python",
   "name": "python3"
  },
  "language_info": {
   "codemirror_mode": {
    "name": "ipython",
    "version": 3
   },
   "file_extension": ".py",
   "mimetype": "text/x-python",
   "name": "python",
   "nbconvert_exporter": "python",
   "pygments_lexer": "ipython3",
   "version": "3.6.5"
  }
 },
 "nbformat": 4,
 "nbformat_minor": 2
}
